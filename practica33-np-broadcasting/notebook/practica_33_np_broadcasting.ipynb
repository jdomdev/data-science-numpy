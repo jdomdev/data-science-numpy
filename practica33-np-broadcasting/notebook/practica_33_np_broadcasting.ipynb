{
 "cells": [
  {
   "cell_type": "markdown",
   "metadata": {},
   "source": [
    "## Práctica 33 \n",
    "### Broadcasting"
   ]
  },
  {
   "cell_type": "markdown",
   "metadata": {},
   "source": [
    "Ejecutar todos los códigos y el ejemplo práctico de la documentación oficial de Numpy  sobre Broadcasting en un 'Notebook de Jupyter'. Traducir también la teoría y pegarla en celdas de texto.\n",
    "\n",
    "https://numpy.org/doc/stable/user/basics.broadcasting.html"
   ]
  },
  {
   "cell_type": "markdown",
   "metadata": {},
   "source": [
    "* Transmisión o Radiodifusión == Broadcasting\n",
    "\n",
    "El término transmisión describe cómo NumPy trata matrices con diferentes formas durante operaciones aritméticas. Sujeto a ciertas restricciones, la matriz más pequeña se \"difunde\" a través de la matriz más grande para que tengan formas compatibles. La transmisión proporciona un medio para vectorizar operaciones de matrices para que el bucle se produzca en C en lugar de Python. Lo hace sin realizar copias innecesarias de datos y, por lo general, conduce a implementaciones de algoritmos eficientes. Sin embargo, hay casos en los que la transmisión es una mala idea porque conduce a un uso ineficiente de la memoria que ralentiza el cálculo.\n",
    "\n",
    "Las operaciones NumPy generalmente se realizan en pares de matrices elemento por elemento. En el caso más simple, las dos matrices deben tener exactamente la misma forma, como en el siguiente ejemplo:"
   ]
  },
  {
   "cell_type": "code",
   "execution_count": 1,
   "metadata": {},
   "outputs": [
    {
     "data": {
      "text/plain": [
       "array([2., 4., 6.])"
      ]
     },
     "execution_count": 1,
     "metadata": {},
     "output_type": "execute_result"
    }
   ],
   "source": [
    "import numpy as np\n",
    "a = np.array([1.0, 2.0, 3.0])\n",
    "b = np.array([2.0, 2.0, 2.0])\n",
    "a * b"
   ]
  },
  {
   "cell_type": "markdown",
   "metadata": {},
   "source": [
    "La regla de transmisión de NumPy relaja esta restricción cuando las formas de las matrices cumplen ciertas restricciones. El ejemplo de transmisión más simple ocurre cuando se combinan una matriz y un valor escalar en una operación:"
   ]
  },
  {
   "cell_type": "code",
   "execution_count": 2,
   "metadata": {},
   "outputs": [
    {
     "data": {
      "text/plain": [
       "array([2., 4., 6.])"
      ]
     },
     "execution_count": 2,
     "metadata": {},
     "output_type": "execute_result"
    }
   ],
   "source": [
    "a = np.array([1.0, 2.0, 3.0])\n",
    "b = 2.0\n",
    "a * b"
   ]
  },
  {
   "cell_type": "markdown",
   "metadata": {},
   "source": [
    "El resultado es equivalente al ejemplo anterior donde 'b' había una matriz. Podemos imaginar que el escalar 'b' se estira durante la operación aritmética hasta formar una matriz con la misma forma que 'a'. Los nuevos elementos en 'b', como se muestra en la Figura 1 , son simplemente copias del escalar original. La analogía del estiramiento es sólo conceptual. NumPy es lo suficientemente inteligente como para usar el valor escalar original sin hacer copias, de modo que las operaciones de transmisión sean lo más eficientes posible en memoria y computación.\n",
    "\n",
    "Se transmite un escalar para que coincida con la forma de la matriz unidimensional por la que se está multiplicando.\n",
    "\n",
    "Figura 1\n",
    "\n",
    "En el ejemplo más simple de transmisión, el escalar b se estira para convertirse en una matriz de la misma forma, de a modo que las formas sean compatibles para la multiplicación elemento por elemento.\n",
    "\n",
    "El código del segundo ejemplo es más eficiente que el del primero porque la transmisión mueve menos memoria durante la multiplicación ( bes un escalar en lugar de una matriz)."
   ]
  },
  {
   "cell_type": "markdown",
   "metadata": {},
   "source": [
    "### Normas generales de retransmisión \n",
    "Cuando opera en dos matrices, NumPy compara sus formas por elementos. Comienza con la dimensión final (es decir, la más a la derecha) y avanza hacia la izquierda. Dos dimensiones son compatibles cuando\n",
    "\n",
    " 1. son iguales, o\n",
    "\n",
    " 2. uno de ellos es 1.\n",
    "\n",
    "Si no se cumplen estas condiciones, se genera una excepción que indica que las matrices tienen formas incompatibles.    ValueError: operands could not be broadcast together\n",
    "\n",
    "No es necesario que las matrices de entrada tengan la misma cantidad de dimensiones. La matriz resultante tendrá la misma cantidad de dimensiones que la matriz de entrada con la mayor cantidad de dimensiones, donde el tamaño de cada dimensión es el tamaño más grande de la dimensión correspondiente entre las matrices de entrada. Tenga en cuenta que se supone que las dimensiones que faltan tienen el tamaño uno.\n",
    "\n",
    "Por ejemplo, si tiene una 256x256x3 matriz de valores RGB y desea escalar cada color de la imagen con un valor diferente, puede multiplicar la imagen por una matriz unidimensional con 3 valores. Alinear los tamaños de los ejes posteriores de estos arreglos de acuerdo con las reglas de transmisión muestra que son compatibles:\n",
    "\n"
   ]
  },
  {
   "cell_type": "markdown",
   "metadata": {},
   "source": [
    "Image  (3d array): 256 x 256 x 3\n",
    "Scale  (1d array):             3\n",
    "Result (3d array): 256 x 256 x 3"
   ]
  },
  {
   "cell_type": "markdown",
   "metadata": {},
   "source": [
    "Cuando alguna de las dimensiones comparadas es una, se utiliza la otra. En otras palabras, las dimensiones con tamaño 1 se estiran o “copian” para que coincidan con las otras.\n",
    "\n",
    "En el siguiente ejemplo, tanto las matrices A como B tienen ejes con longitud uno que se expanden a un tamaño mayor durante la operación de transmisión:"
   ]
  },
  {
   "cell_type": "markdown",
   "metadata": {},
   "source": [
    "| **Matrices**      | **Dimensiones**    |\n",
    "|-------------------|--------------------|\n",
    "| A (4d array)      | 8 x 1 x 6 x 1      |\n",
    "| B (3d array)      | 7 x 1 x 5          |\n",
    "| Result (4d array) | 8 x 7 x 6 x 5      |\n"
   ]
  },
  {
   "cell_type": "markdown",
   "metadata": {},
   "source": [
    "### Matrices transmitibles \n",
    "Un conjunto de matrices se denomina \"transmisible\" a la misma forma si las reglas anteriores producen un resultado válido.\n",
    "\n",
    "Por ejemplo, si a.shapees (5,1), b.shapees (1,6), c.shapees (6,) y d.shapees () de modo que d es un escalar, entonces a , b , c y d se pueden transmitir a la dimensión (5 ,6); y\n",
    "\n",
    "    - a actúa como una matriz (5,6) donde a[:,0]se transmite a las otras columnas,\n",
    "\n",
    "    - b actúa como una matriz (5,6) donde b[0,:]se transmite a las otras filas,\n",
    "\n",
    "    - c actúa como una matriz (1,6) y por lo tanto como una matriz (5,6) donde c[:]se transmite a cada fila, y finalmente,\n",
    "\n",
    "    - d actúa como una matriz (5,6) donde se repite el valor único.\n",
    "\n",
    "Aquí hay algunos ejemplos más:"
   ]
  },
  {
   "cell_type": "markdown",
   "metadata": {},
   "source": [
    "| **A (Array)**  | **Filas x Columnas A** | **B (Array)**  | **Filas x Columnas B** | **Result (Array)**  | **Filas x Columnas Result** |\n",
    "|----------------|-------------------|----------------|-------------------|---------------------|------------------------|\n",
    "| 2d array       | 5 x 4             | 1d array       | 1                 | 2d array            | 5 x 4                  |\n",
    "| 2d array       | 5 x 4             | 1d array       | 4                 | 2d array            | 5 x 4                  |\n",
    "| 3d array       | 15 x 3 x 5        | 3d array       | 15 x 1 x 5        | 3d array            | 15 x 3 x 5             |\n",
    "| 3d array       | 15 x 3 x 5        | 2d array       | 3 x 5             | 3d array            | 15 x 3 x 5             |\n",
    "| 3d array       | 15 x 3 x 5        | 2d array       | 3 x 1             | 3d array            | 15 x 3 x 5             |\n"
   ]
  },
  {
   "cell_type": "markdown",
   "metadata": {},
   "source": [
    "A continuación se muestran ejemplos de formas que no se transmiten:"
   ]
  },
  {
   "cell_type": "markdown",
   "metadata": {},
   "source": [
    "| **Nombre**         | **Filas x Columnas**                      | **Notas**                                  |\n",
    "|--------------------|--------------------------------------|--------------------------------------------|\n",
    "| A (1d array)       | 3                                    |                                            |\n",
    "| B (1d array)       | 4                                    | trailing dimensions do not match           |\n",
    "| A (2d array)       | 2 x 1                                |                                            |\n",
    "| B (3d array)       | 8 x 4 x 3                            | second from last dimensions mismatched     |\n"
   ]
  },
  {
   "cell_type": "markdown",
   "metadata": {},
   "source": [
    "Un ejemplo de transmisión cuando se agrega una matriz unidimensional a una matriz bidimensional:"
   ]
  },
  {
   "cell_type": "code",
   "execution_count": 4,
   "metadata": {},
   "outputs": [
    {
     "data": {
      "text/plain": [
       "array([[ 1.,  2.,  3.],\n",
       "       [11., 12., 13.],\n",
       "       [21., 22., 23.],\n",
       "       [31., 32., 33.]])"
      ]
     },
     "execution_count": 4,
     "metadata": {},
     "output_type": "execute_result"
    }
   ],
   "source": [
    "a = np.array([[ 0.0,  0.0,  0.0],\n",
    "              [10.0, 10.0, 10.0],\n",
    "              [20.0, 20.0, 20.0],\n",
    "              [30.0, 30.0, 30.0]])\n",
    "b = np.array([1.0, 2.0, 3.0])\n",
    "a + b"
   ]
  },
  {
   "cell_type": "code",
   "execution_count": 5,
   "metadata": {},
   "outputs": [
    {
     "ename": "ValueError",
     "evalue": "operands could not be broadcast together with shapes (4,3) (4,) ",
     "output_type": "error",
     "traceback": [
      "\u001b[0;31m---------------------------------------------------------------------------\u001b[0m",
      "\u001b[0;31mValueError\u001b[0m                                Traceback (most recent call last)",
      "Cell \u001b[0;32mIn[5], line 2\u001b[0m\n\u001b[1;32m      1\u001b[0m b \u001b[38;5;241m=\u001b[39m np\u001b[38;5;241m.\u001b[39marray([\u001b[38;5;241m1.0\u001b[39m, \u001b[38;5;241m2.0\u001b[39m, \u001b[38;5;241m3.0\u001b[39m, \u001b[38;5;241m4.0\u001b[39m])\n\u001b[0;32m----> 2\u001b[0m \u001b[43ma\u001b[49m\u001b[43m \u001b[49m\u001b[38;5;241;43m+\u001b[39;49m\u001b[43m \u001b[49m\u001b[43mb\u001b[49m\n",
      "\u001b[0;31mValueError\u001b[0m: operands could not be broadcast together with shapes (4,3) (4,) "
     ]
    }
   ],
   "source": [
    "b = np.array([1.0, 2.0, 3.0, 4.0])\n",
    "a + b"
   ]
  },
  {
   "cell_type": "markdown",
   "metadata": {},
   "source": [
    "Como se muestra en la Figura 2 , bse agrega a cada fila de a. En la Figura 3 , se plantea una excepción debido a las formas incompatibles.\n",
    "\n",
    "Una matriz 1-d con forma (3) se estira para que coincida con la matriz 2-d de forma (4, 3) a la que se está agregando, y el resultado es una matriz 2-d de forma (4, 3).\n",
    "Figura 2\n",
    "\n",
    "Una matriz unidimensional agregada a una matriz bidimensional da como resultado una transmisión si el número de elementos de la matriz unidimensional coincide con el número de columnas de la matriz bidimensional.\n",
    "Una gran cruz sobre la matriz de formas bidimensional (4, 3) y la matriz de formas unidimensional (4) muestra que no se pueden transmitir debido a la falta de coincidencia de formas y, por lo tanto, no producen ningún resultado.\n",
    "\n",
    "figura 3\n",
    "\n",
    "Cuando las dimensiones finales de las matrices son desiguales, la transmisión falla porque es imposible alinear los valores en las filas de la primera matriz con los elementos de la segunda matriz para la suma elemento por elemento."
   ]
  },
  {
   "cell_type": "markdown",
   "metadata": {},
   "source": [
    "La radiodifusión proporciona una manera conveniente de tomar el producto exterior (o cualquier otra operación exterior) de dos matrices. El siguiente ejemplo muestra una operación de suma externa de dos matrices unidimensionales:"
   ]
  },
  {
   "cell_type": "code",
   "execution_count": 6,
   "metadata": {},
   "outputs": [
    {
     "data": {
      "text/plain": [
       "array([[ 1.,  2.,  3.],\n",
       "       [11., 12., 13.],\n",
       "       [21., 22., 23.],\n",
       "       [31., 32., 33.]])"
      ]
     },
     "execution_count": 6,
     "metadata": {},
     "output_type": "execute_result"
    }
   ],
   "source": [
    "a = np.array([0.0, 10.0, 20.0, 30.0])\n",
    "b = np.array([1.0, 2.0, 3.0])\n",
    "a[:, np.newaxis] + b"
   ]
  },
  {
   "cell_type": "markdown",
   "metadata": {},
   "source": [
    "Una matriz de formas bidimensional (4, 1) y una matriz de formas unidimensional (3) se estiran para que coincidan con sus formas y produzcan una matriz de formas resultante (4, 3).\n",
    "\n",
    "Figura 4\n",
    "\n",
    "En algunos casos, la difusión extiende ambas matrices para formar una matriz de salida más grande que cualquiera de las matrices iniciales."
   ]
  },
  {
   "cell_type": "markdown",
   "metadata": {},
   "source": [
    "Aquí el newaxis operador de índice inserta un nuevo eje en a, convirtiéndolo en una matriz bidimensional 4x1. Combinando la 4x1 matriz con b, que tiene forma (3,), se obtiene una 4x3 matriz."
   ]
  },
  {
   "cell_type": "markdown",
   "metadata": {},
   "source": [
    "### práctico: cuantificación vectorial\n",
    "\n",
    "La radiodifusión surge con bastante frecuencia en los problemas del mundo real. Un ejemplo típico ocurre en el algoritmo de cuantificación vectorial (VQ) utilizado en teoría de la información, clasificación y otras áreas relacionadas. La operación básica en VQ encuentra el punto más cercano en un conjunto de puntos, llamado codes en la jerga VQ, a un punto dado, llamado observation. En el caso bidimensional muy simple que se muestra a continuación, los valores observation describen el peso y la altura de un atleta que se va a clasificar. Representan codes diferentes clases de atletas. [ 1 ] Encontrar el punto más cercano requiere calcular la distancia entre la observación y cada uno de los códigos. La distancia más corta proporciona la mejor coincidencia. En este ejemplo, codes[0] la clase más cercana indica que el atleta probablemente sea un jugador de baloncesto."
   ]
  },
  {
   "cell_type": "code",
   "execution_count": 7,
   "metadata": {},
   "outputs": [
    {
     "data": {
      "text/plain": [
       "np.int64(0)"
      ]
     },
     "execution_count": 7,
     "metadata": {},
     "output_type": "execute_result"
    }
   ],
   "source": [
    "from numpy import array, argmin, sqrt, sum\n",
    "observation = array([111.0, 188.0])\n",
    "codes = array([[102.0, 203.0],\n",
    "               [132.0, 193.0],\n",
    "               [45.0, 155.0],\n",
    "               [57.0, 173.0]])\n",
    "diff = codes - observation    # the broadcast happens here\n",
    "dist = sqrt(sum(diff**2,axis=-1))\n",
    "argmin(dist)"
   ]
  },
  {
   "cell_type": "markdown",
   "metadata": {},
   "source": [
    "En este ejemplo, la observation matriz se estira para que coincida con la forma de la codes matriz:"
   ]
  },
  {
   "cell_type": "markdown",
   "metadata": {},
   "source": [
    "| **Array**       | **Filas x Columnas** |\n",
    "|------------------|-----------------|\n",
    "| Observation (1d array) | 2           |\n",
    "| Codes (2d array)       | 4 x 2       |\n",
    "| Diff (2d array)        | 4 x 2       |\n"
   ]
  },
  {
   "cell_type": "markdown",
   "metadata": {},
   "source": [
    "Un gráfico de altura versus peso que muestra datos de una gimnasta, corredora de maratón, jugadora de baloncesto, liniero de fútbol y el atleta a clasificar. La distancia más corta se encuentra entre el jugador de baloncesto y el deportista a clasificar.\n",
    "\n",
    "Figura 5\n",
    "\n",
    "La operación básica de la cuantificación vectorial calcula la distancia entre un objeto a clasificar, el cuadrado oscuro, y múltiples códigos conocidos, los círculos grises. En este caso sencillo, los códigos representan clases individuales. Los casos más complejos utilizan varios códigos por clase."
   ]
  },
  {
   "cell_type": "markdown",
   "metadata": {},
   "source": [
    "Normalmente, una gran cantidad de archivos observations, quizás leídos de una base de datos, se comparan con un conjunto de archivos codes. Considere este escenario:"
   ]
  },
  {
   "cell_type": "markdown",
   "metadata": {},
   "source": [
    "| **Array**     | **Filas x Columnas** |\n",
    "|----------------|------------------|\n",
    "| Observation (2d array) | 10 x 3   |\n",
    "| Codes (3d array)       | 5 x 1 x 3 |\n",
    "| Diff (3d array)        | 5 x 10 x 3 |\n"
   ]
  },
  {
   "cell_type": "markdown",
   "metadata": {},
   "source": [
    "La matriz tridimensional, diff, es una consecuencia de la radiodifusión, no una necesidad para el cálculo. Grandes conjuntos de datos generarán una gran matriz intermedia que es computacionalmente ineficiente. En cambio, si cada observación se calcula individualmente usando un bucle de Python alrededor del código en el ejemplo bidimensional anterior, se usa una matriz mucho más pequeña.\n",
    "\n",
    "La transmisión es una herramienta poderosa para escribir código breve y generalmente intuitivo que realiza sus cálculos de manera muy eficiente en C. Sin embargo, hay casos en los que la transmisión utiliza cantidades innecesariamente grandes de memoria para un algoritmo en particular. En estos casos, es mejor escribir el bucle externo del algoritmo en Python. Esto también puede producir un código más legible, ya que los algoritmos que utilizan la transmisión tienden a volverse más difíciles de interpretar a medida que aumenta el número de dimensiones en la transmisión."
   ]
  },
  {
   "cell_type": "markdown",
   "metadata": {},
   "source": [
    "#### Notas a pie de página"
   ]
  },
  {
   "cell_type": "markdown",
   "metadata": {},
   "source": [
    "\n",
    "En este ejemplo, el peso tiene más impacto en el cálculo de la distancia que la altura debido a los valores mayores. En la práctica, es importante normalizar la altura y el peso, a menudo mediante su desviación estándar en todo el conjunto de datos, de modo que ambos tengan la misma influencia en el cálculo de la distancia."
   ]
  }
 ],
 "metadata": {
  "kernelspec": {
   "display_name": "Curso_Python",
   "language": "python",
   "name": "python3"
  },
  "language_info": {
   "codemirror_mode": {
    "name": "ipython",
    "version": 3
   },
   "file_extension": ".py",
   "mimetype": "text/x-python",
   "name": "python",
   "nbconvert_exporter": "python",
   "pygments_lexer": "ipython3",
   "version": "3.12.3"
  }
 },
 "nbformat": 4,
 "nbformat_minor": 2
}
